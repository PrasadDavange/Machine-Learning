{
 "cells": [
  {
   "cell_type": "markdown",
   "metadata": {},
   "source": [
    "## Assisted Practice 1 - Data Exploration Part - a\n",
    "\n",
    "### Importing and Storing data\n",
    "\n",
    "**Problem Statement:**\n",
    "    * Extract data from the given SalaryGender CSV file\n",
    "    * store the data from each column in a separate NumPy array\n",
    "\n"
   ]
  },
  {
   "cell_type": "code",
   "execution_count": 1,
   "metadata": {},
   "outputs": [],
   "source": [
    "#importing libraries\n",
    "\n",
    "import numpy as np\n",
    "import pandas as pd"
   ]
  },
  {
   "cell_type": "code",
   "execution_count": 2,
   "metadata": {},
   "outputs": [],
   "source": [
    "#importing data \n",
    "#reading csv file into dataframe\n",
    "\n",
    "df = pd.read_csv(\"C:\\\\Users\\\\DELL\\\\Desktop\\\\Machine-Learning\\\\Lesson-1-Data Preprocessing\\\\Assisted Practice Datasets\\\\SalaryGender.csv\",delimiter=',')"
   ]
  },
  {
   "cell_type": "code",
   "execution_count": 3,
   "metadata": {},
   "outputs": [
    {
     "data": {
      "text/html": [
       "<div>\n",
       "<style scoped>\n",
       "    .dataframe tbody tr th:only-of-type {\n",
       "        vertical-align: middle;\n",
       "    }\n",
       "\n",
       "    .dataframe tbody tr th {\n",
       "        vertical-align: top;\n",
       "    }\n",
       "\n",
       "    .dataframe thead th {\n",
       "        text-align: right;\n",
       "    }\n",
       "</style>\n",
       "<table border=\"1\" class=\"dataframe\">\n",
       "  <thead>\n",
       "    <tr style=\"text-align: right;\">\n",
       "      <th></th>\n",
       "      <th>Salary</th>\n",
       "      <th>Gender</th>\n",
       "      <th>Age</th>\n",
       "      <th>PhD</th>\n",
       "    </tr>\n",
       "  </thead>\n",
       "  <tbody>\n",
       "    <tr>\n",
       "      <th>0</th>\n",
       "      <td>140.0</td>\n",
       "      <td>1</td>\n",
       "      <td>47</td>\n",
       "      <td>1</td>\n",
       "    </tr>\n",
       "    <tr>\n",
       "      <th>1</th>\n",
       "      <td>30.0</td>\n",
       "      <td>0</td>\n",
       "      <td>65</td>\n",
       "      <td>1</td>\n",
       "    </tr>\n",
       "    <tr>\n",
       "      <th>2</th>\n",
       "      <td>35.1</td>\n",
       "      <td>0</td>\n",
       "      <td>56</td>\n",
       "      <td>0</td>\n",
       "    </tr>\n",
       "    <tr>\n",
       "      <th>3</th>\n",
       "      <td>30.0</td>\n",
       "      <td>1</td>\n",
       "      <td>23</td>\n",
       "      <td>0</td>\n",
       "    </tr>\n",
       "    <tr>\n",
       "      <th>4</th>\n",
       "      <td>80.0</td>\n",
       "      <td>0</td>\n",
       "      <td>53</td>\n",
       "      <td>1</td>\n",
       "    </tr>\n",
       "  </tbody>\n",
       "</table>\n",
       "</div>"
      ],
      "text/plain": [
       "   Salary  Gender  Age  PhD\n",
       "0   140.0       1   47    1\n",
       "1    30.0       0   65    1\n",
       "2    35.1       0   56    0\n",
       "3    30.0       1   23    0\n",
       "4    80.0       0   53    1"
      ]
     },
     "execution_count": 3,
     "metadata": {},
     "output_type": "execute_result"
    }
   ],
   "source": [
    "#first 5 obs of data\n",
    "df.head(5)"
   ]
  },
  {
   "cell_type": "code",
   "execution_count": 4,
   "metadata": {},
   "outputs": [
    {
     "name": "stdout",
     "output_type": "stream",
     "text": [
      "    Salary  Gender  Age  PhD\n",
      "0   140.00       1   47    1\n",
      "1    30.00       0   65    1\n",
      "2    35.10       0   56    0\n",
      "3    30.00       1   23    0\n",
      "4    80.00       0   53    1\n",
      "5    30.00       0   27    0\n",
      "6    60.00       1   53    0\n",
      "7    31.10       0   30    0\n",
      "8   125.00       1   44    1\n",
      "9    51.00       1   63    1\n",
      "10    3.00       1   22    0\n",
      "11   46.00       1   59    0\n",
      "12  150.00       1   60    1\n",
      "13    3.00       1   28    0\n",
      "14  130.00       1   65    0\n",
      "15   15.00       0   25    0\n",
      "16  130.00       1   65    0\n",
      "17   84.00       0   47    1\n",
      "18  190.00       1   66    1\n",
      "19   74.00       1   45    1\n",
      "20   73.00       0   46    0\n",
      "21   10.00       0   24    0\n",
      "22   50.00       0   60    0\n",
      "23    7.00       0   63    0\n",
      "24    9.50       0   27    0\n",
      "25   15.20       1   66    1\n",
      "26   28.60       1   36    1\n",
      "27   20.00       0   30    0\n",
      "28   72.00       0   51    1\n",
      "29   81.00       1   65    1\n",
      "..     ...     ...  ...  ...\n",
      "70   40.70       0   57    0\n",
      "71   15.00       1   23    0\n",
      "72    0.25       0   53    0\n",
      "73  152.00       1   71    1\n",
      "74   39.80       0   20    0\n",
      "75   12.00       0   27    0\n",
      "76   30.00       1   69    1\n",
      "77  120.00       1   58    1\n",
      "78    1.70       1   37    0\n",
      "79   36.00       1   32    1\n",
      "80   96.00       1   33    1\n",
      "81   38.00       0   32    1\n",
      "82   90.00       1   60    0\n",
      "83    9.00       1   71    0\n",
      "84   25.80       0   30    0\n",
      "85   22.00       0   62    0\n",
      "86   38.80       0   54    0\n",
      "87   72.00       1   42    1\n",
      "88   89.00       1   62    0\n",
      "89   41.00       0   51    1\n",
      "90   89.00       1   71    1\n",
      "91   25.00       0   29    0\n",
      "92   52.00       1   55    1\n",
      "93  115.00       0   54    0\n",
      "94   66.00       0   55    1\n",
      "95   18.60       1   26    0\n",
      "96  152.00       1   56    1\n",
      "97    1.80       1   28    0\n",
      "98   35.00       0   44    0\n",
      "99    4.00       0   24    0\n",
      "\n",
      "[100 rows x 4 columns]\n"
     ]
    }
   ],
   "source": [
    "print(df)      #printing the dataframe"
   ]
  },
  {
   "cell_type": "code",
   "execution_count": 5,
   "metadata": {},
   "outputs": [],
   "source": [
    "#creating numpy array out of each column of the dataframe\n",
    "\n",
    "Salary = np.array(df['Salary'])\n",
    "Gender = np.array(df['Gender'])\n",
    "Age = np.array(df['Age'])\n",
    "PhD = np.array(df['PhD'])"
   ]
  },
  {
   "cell_type": "code",
   "execution_count": 6,
   "metadata": {},
   "outputs": [
    {
     "data": {
      "text/plain": [
       "array([140.  ,  30.  ,  35.1 ,  30.  ,  80.  ,  30.  ,  60.  ,  31.1 ,\n",
       "       125.  ,  51.  ,   3.  ,  46.  , 150.  ,   3.  , 130.  ,  15.  ,\n",
       "       130.  ,  84.  , 190.  ,  74.  ,  73.  ,  10.  ,  50.  ,   7.  ,\n",
       "         9.5 ,  15.2 ,  28.6 ,  20.  ,  72.  ,  81.  , 100.  ,  90.  ,\n",
       "        90.  ,  35.  ,  30.  ,  25.  ,  52.  ,   9.  ,  63.  ,  72.  ,\n",
       "        16.  ,  92.  , 106.  ,   2.5 ,   9.  ,  32.  ,  32.  ,  55.  ,\n",
       "        52.  ,  28.  ,  20.  ,  14.7 ,  22.3 ,  34.8 ,  84.  ,  19.  ,\n",
       "       160.  ,  65.  ,  55.  ,   4.6 , 102.  ,  20.  ,  62.  ,  55.  ,\n",
       "        45.6 ,  40.  ,  24.  ,  35.  ,  48.  ,  20.  ,  40.7 ,  15.  ,\n",
       "         0.25, 152.  ,  39.8 ,  12.  ,  30.  , 120.  ,   1.7 ,  36.  ,\n",
       "        96.  ,  38.  ,  90.  ,   9.  ,  25.8 ,  22.  ,  38.8 ,  72.  ,\n",
       "        89.  ,  41.  ,  89.  ,  25.  ,  52.  , 115.  ,  66.  ,  18.6 ,\n",
       "       152.  ,   1.8 ,  35.  ,   4.  ])"
      ]
     },
     "execution_count": 6,
     "metadata": {},
     "output_type": "execute_result"
    }
   ],
   "source": [
    "Salary"
   ]
  },
  {
   "cell_type": "code",
   "execution_count": 7,
   "metadata": {},
   "outputs": [
    {
     "data": {
      "text/plain": [
       "array([1, 0, 0, 1, 0, 0, 1, 0, 1, 1, 1, 1, 1, 1, 1, 0, 1, 0, 1, 1, 0, 0,\n",
       "       0, 0, 0, 1, 1, 0, 0, 1, 0, 0, 0, 1, 0, 1, 0, 0, 1, 1, 1, 0, 1, 1,\n",
       "       0, 0, 0, 1, 1, 0, 0, 0, 1, 0, 0, 1, 1, 0, 0, 1, 1, 1, 0, 1, 1, 0,\n",
       "       0, 1, 0, 0, 0, 1, 0, 1, 0, 0, 1, 1, 1, 1, 1, 0, 1, 1, 0, 0, 0, 1,\n",
       "       1, 0, 1, 0, 1, 0, 0, 1, 1, 1, 0, 0], dtype=int64)"
      ]
     },
     "execution_count": 7,
     "metadata": {},
     "output_type": "execute_result"
    }
   ],
   "source": [
    "Gender"
   ]
  },
  {
   "cell_type": "code",
   "execution_count": 8,
   "metadata": {},
   "outputs": [
    {
     "data": {
      "text/plain": [
       "array([47, 65, 56, 23, 53, 27, 53, 30, 44, 63, 22, 59, 60, 28, 65, 25, 65,\n",
       "       47, 66, 45, 46, 24, 60, 63, 27, 66, 36, 30, 51, 65, 45, 52, 54, 30,\n",
       "       52, 26, 49, 22, 34, 60, 28, 58, 77, 67, 27, 48, 45, 49, 36, 65, 32,\n",
       "       49, 67, 22, 49, 43, 61, 43, 52, 51, 66, 29, 62, 56, 61, 56, 41, 24,\n",
       "       60, 43, 57, 23, 53, 71, 20, 27, 69, 58, 37, 32, 33, 32, 60, 71, 30,\n",
       "       62, 54, 42, 62, 51, 71, 29, 55, 54, 55, 26, 56, 28, 44, 24],\n",
       "      dtype=int64)"
      ]
     },
     "execution_count": 8,
     "metadata": {},
     "output_type": "execute_result"
    }
   ],
   "source": [
    "Age"
   ]
  },
  {
   "cell_type": "code",
   "execution_count": 9,
   "metadata": {},
   "outputs": [
    {
     "data": {
      "text/plain": [
       "array([1, 1, 0, 0, 1, 0, 0, 0, 1, 1, 0, 0, 1, 0, 0, 0, 0, 1, 1, 1, 0, 0,\n",
       "       0, 0, 0, 1, 1, 0, 1, 1, 1, 1, 1, 0, 0, 0, 0, 0, 1, 0, 0, 1, 1, 0,\n",
       "       0, 1, 0, 1, 0, 1, 0, 0, 0, 0, 1, 0, 1, 1, 0, 0, 1, 0, 0, 1, 0, 0,\n",
       "       0, 0, 0, 0, 0, 0, 0, 1, 0, 0, 1, 1, 0, 1, 1, 1, 0, 0, 0, 0, 0, 1,\n",
       "       0, 1, 1, 0, 1, 0, 1, 0, 1, 0, 0, 0], dtype=int64)"
      ]
     },
     "execution_count": 9,
     "metadata": {},
     "output_type": "execute_result"
    }
   ],
   "source": [
    "PhD"
   ]
  },
  {
   "cell_type": "markdown",
   "metadata": {},
   "source": [
    "## Done!"
   ]
  }
 ],
 "metadata": {
  "kernelspec": {
   "display_name": "Python 3",
   "language": "python",
   "name": "python3"
  },
  "language_info": {
   "codemirror_mode": {
    "name": "ipython",
    "version": 3
   },
   "file_extension": ".py",
   "mimetype": "text/x-python",
   "name": "python",
   "nbconvert_exporter": "python",
   "pygments_lexer": "ipython3",
   "version": "3.6.5"
  }
 },
 "nbformat": 4,
 "nbformat_minor": 2
}
